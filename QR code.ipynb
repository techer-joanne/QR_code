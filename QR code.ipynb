{
 "cells": [
  {
   "cell_type": "code",
   "execution_count": 26,
   "metadata": {},
   "outputs": [
    {
     "name": "stdout",
     "output_type": "stream",
     "text": [
      "QR code coloré avec dégradé généré et enregistré sous 'qr_code_portfolio.png'\n"
     ]
    }
   ],
   "source": [
    "import qrcode  # Importation de la bibliothèque qrcode pour générer des QR codes\n",
    "from PIL import Image, ImageDraw  # Importation des outils pour dessiner et manipuler des images\n",
    "\n",
    "url = \"https://portfolio-joanne-techer.com/\"  # Remplacez cette URL par celle que vous souhaitez encoder\n",
    "\n",
    "# Création du QR code\n",
    "qr = qrcode.QRCode(  \n",
    "    version=1,  # Détermine la taille du QR code (1 pour une petite taille)\n",
    "    error_correction=qrcode.constants.ERROR_CORRECT_H,  # Niveau élevé de correction d'erreurs\n",
    "    box_size=10,  # Taille des cases (pixels) dans le QR code\n",
    "    border=20,  # Taille de la bordure blanche autour du QR code\n",
    ")\n",
    "qr.add_data(url)  # Ajoute l'URL au QR code\n",
    "qr.make(fit=True)  # Génère le QR code en ajustant la taille\n",
    "\n",
    "# Création de l'image du QR code en noir et blanc\n",
    "qr_image = qr.make_image(fill_color=\"black\", back_color=\"white\").convert(\"RGBA\")  # Convertit en image RGBA pour le style\n",
    "\n",
    "# Dimensions du QR code\n",
    "largeur, hauteur = qr_image.size  # Récupère la largeur et la hauteur de l'image\n",
    "degrade = Image.new(\"RGBA\", (largeur, hauteur))  # Crée une nouvelle image vide pour le fond en dégradé\n",
    "dessin = ImageDraw.Draw(degrade)  # Outil pour dessiner sur l'image\n",
    "\n",
    "# Définir les couleurs du dégradé\n",
    "couleur_depart = (20, 50, 100, 255)  # Couleur de départ du dégradé (bleu foncé)\n",
    "couleur_fin = (0, 128, 255, 255)  # Couleur de fin du dégradé (bleu clair)\n",
    "\n",
    "# Appliquer un dégradé verticalement\n",
    "for y in range(hauteur):  # Parcourt chaque ligne de l'image\n",
    "    rouge = couleur_depart[0] + (couleur_fin[0] - couleur_depart[0]) * y // hauteur  # Calcule la composante rouge\n",
    "    vert = couleur_depart[1] + (couleur_fin[1] - couleur_depart[1]) * y // hauteur  # Calcule la composante verte\n",
    "    bleu = couleur_depart[2] + (couleur_fin[2] - couleur_depart[2]) * y // hauteur  # Calcule la composante bleue\n",
    "    dessin.line([(0, y), (largeur, y)], fill=(rouge, vert, bleu))  # Dessine une ligne horizontale avec la couleur calculée\n",
    "\n",
    "# Appliquer les motifs du QR code sur un fond transparent\n",
    "qr_colore = Image.new(\"RGBA\", qr_image.size)  # Crée une nouvelle image vide pour le QR code coloré\n",
    "for x in range(largeur):  # Parcourt chaque pixel en largeur\n",
    "    for y in range(hauteur):  # Parcourt chaque pixel en hauteur\n",
    "        if qr_image.getpixel((x, y))[0] < 128:  # Vérifie si le pixel est noir dans l'image originale\n",
    "            qr_colore.putpixel((x, y), (0, 0, 0, 255))  # Garde les motifs noirs\n",
    "        else:\n",
    "            qr_colore.putpixel((x, y), (255, 255, 255, 0))  # Rend les espaces blancs transparents\n",
    "\n",
    "# Fusionner le QR code avec le fond en dégradé\n",
    "image_finale = Image.alpha_composite(degrade, qr_colore)  # Superpose le QR code sur le fond dégradé\n",
    "\n",
    "# Sauvegarde de l'image finale\n",
    "image_finale.save(\"qr_code_portfolio.png\")  # Sauvegarde le QR code stylisé dans un fichier\n",
    "\n",
    "print(\"QR code coloré avec dégradé généré et enregistré sous 'qr_code_portfolio.png'\")  # Message de confirmation\n"
   ]
  }
 ],
 "metadata": {
  "kernelspec": {
   "display_name": "env",
   "language": "python",
   "name": "python3"
  },
  "language_info": {
   "codemirror_mode": {
    "name": "ipython",
    "version": 3
   },
   "file_extension": ".py",
   "mimetype": "text/x-python",
   "name": "python",
   "nbconvert_exporter": "python",
   "pygments_lexer": "ipython3",
   "version": "3.10.11"
  }
 },
 "nbformat": 4,
 "nbformat_minor": 2
}
